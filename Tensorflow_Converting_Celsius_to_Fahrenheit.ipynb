{
  "nbformat": 4,
  "nbformat_minor": 0,
  "metadata": {
    "colab": {
      "name": "Tensorflow_Converting_Celsius_to_Fahrenheit.ipynb",
      "version": "0.3.2",
      "provenance": [],
      "include_colab_link": true
    },
    "kernelspec": {
      "name": "python3",
      "display_name": "Python 3"
    },
    "accelerator": "GPU"
  },
  "cells": [
    {
      "cell_type": "markdown",
      "metadata": {
        "id": "view-in-github",
        "colab_type": "text"
      },
      "source": [
        "<a href=\"https://colab.research.google.com/github/mobassir94/Intro-to-TensorFlow-for-Deep-Learning-Udacity/blob/master/Tensorflow_Converting_Celsius_to_Fahrenheit.ipynb\" target=\"_parent\"><img src=\"https://colab.research.google.com/assets/colab-badge.svg\" alt=\"Open In Colab\"/></a>"
      ]
    },
    {
      "metadata": {
        "id": "oYEX-fZTh6Lz",
        "colab_type": "text"
      },
      "cell_type": "markdown",
      "source": [
        "## **Approximate Formula is : ** f = c * 1.8 + 32 "
      ]
    },
    {
      "metadata": {
        "id": "zV044EKpiYaA",
        "colab_type": "text"
      },
      "cell_type": "markdown",
      "source": [
        "\n",
        "**importing dependencies**\n"
      ]
    },
    {
      "metadata": {
        "id": "6BWZtISjie4_",
        "colab_type": "code",
        "colab": {}
      },
      "cell_type": "code",
      "source": [
        "import tensorflow as tf\n",
        "\n",
        "tf.logging.set_verbosity(tf.logging.ERROR) # tells tensorflow only to log error messages\n",
        "\n",
        "import numpy as np"
      ],
      "execution_count": 0,
      "outputs": []
    },
    {
      "metadata": {
        "id": "Cda_iEUKjvcX",
        "colab_type": "text"
      },
      "cell_type": "markdown",
      "source": [
        "**Setting up training data**"
      ]
    },
    {
      "metadata": {
        "id": "-qFLvBs5jygS",
        "colab_type": "code",
        "colab": {
          "base_uri": "https://localhost:8080/",
          "height": 146
        },
        "outputId": "fc6535e5-6928-4806-d6c3-056b4ff22a98"
      },
      "cell_type": "code",
      "source": [
        "celsius_q = np.array([-40,-10,0,8,15,22,38], dtype = float) #x variables\n",
        "\n",
        "fahrenheit_a = np.array([-40,14,32,46,59,72,100], dtype = float) #y variables\n",
        "\n",
        "#lets print these\n",
        "\n",
        "for f,c in enumerate (celsius_q):\n",
        "  print(\"{} degree cesius = {} degree fahrenheit\".format(c,fahrenheit_a[f]))"
      ],
      "execution_count": 28,
      "outputs": [
        {
          "output_type": "stream",
          "text": [
            "-40.0 degree cesius = -40.0 degree fahrenheit\n",
            "-10.0 degree cesius = 14.0 degree fahrenheit\n",
            "0.0 degree cesius = 32.0 degree fahrenheit\n",
            "8.0 degree cesius = 46.0 degree fahrenheit\n",
            "15.0 degree cesius = 59.0 degree fahrenheit\n",
            "22.0 degree cesius = 72.0 degree fahrenheit\n",
            "38.0 degree cesius = 100.0 degree fahrenheit\n"
          ],
          "name": "stdout"
        }
      ]
    },
    {
      "metadata": {
        "id": "dBL3I_ynl5S4",
        "colab_type": "text"
      },
      "cell_type": "markdown",
      "source": [
        "**Creating the model**"
      ]
    },
    {
      "metadata": {
        "id": "LuwvROoXl7sK",
        "colab_type": "code",
        "colab": {}
      },
      "cell_type": "code",
      "source": [
        "ten = tf.keras.layers.Dense(units = 1, input_shape = [1])\n",
        "\n",
        "model = tf.keras.Sequential([ten])"
      ],
      "execution_count": 0,
      "outputs": []
    },
    {
      "metadata": {
        "id": "0pr3RbfamS5G",
        "colab_type": "code",
        "colab": {}
      },
      "cell_type": "code",
      "source": [
        "model.compile(loss = 'mean_squared_error',\n",
        "             \n",
        "              optimizer = tf.keras.optimizers.Adam(0.1) #0.1 here is the learning rate\n",
        "             )"
      ],
      "execution_count": 0,
      "outputs": []
    },
    {
      "metadata": {
        "id": "pLsOpZS2n2f4",
        "colab_type": "text"
      },
      "cell_type": "markdown",
      "source": [
        "**Training the Model**"
      ]
    },
    {
      "metadata": {
        "id": "g9PobDG7nXSe",
        "colab_type": "code",
        "colab": {
          "base_uri": "https://localhost:8080/",
          "height": 35
        },
        "outputId": "19a249b4-eb77-41d4-e375-42f3d7740448"
      },
      "cell_type": "code",
      "source": [
        "train = model.fit(celsius_q, fahrenheit_a, epochs = 500, verbose = False )\n",
        "\n",
        "print(\"training has been finished\")"
      ],
      "execution_count": 31,
      "outputs": [
        {
          "output_type": "stream",
          "text": [
            "training has been finished\n"
          ],
          "name": "stdout"
        }
      ]
    },
    {
      "metadata": {
        "id": "Ay9NK3LrpTwX",
        "colab_type": "text"
      },
      "cell_type": "markdown",
      "source": [
        "**Displaying Training Statistics**"
      ]
    },
    {
      "metadata": {
        "id": "Pr_UoDQmoQON",
        "colab_type": "code",
        "colab": {
          "base_uri": "https://localhost:8080/",
          "height": 379
        },
        "outputId": "e5f91394-457c-47d4-dbaa-1e389302d655"
      },
      "cell_type": "code",
      "source": [
        "import matplotlib.pyplot as plt\n",
        "\n",
        "plt.xlabel('Epoch Number')\n",
        "\n",
        "plt.ylabel('Loss Magnitude')\n",
        "\n",
        "plt.plot(train.history['loss'])"
      ],
      "execution_count": 32,
      "outputs": [
        {
          "output_type": "execute_result",
          "data": {
            "text/plain": [
              "[<matplotlib.lines.Line2D at 0x7f5828e63b38>]"
            ]
          },
          "metadata": {
            "tags": []
          },
          "execution_count": 32
        },
        {
          "output_type": "display_data",
          "data": {
            "image/png": "[encoded data removed]",
            "text/plain": [
              "<Figure size 576x396 with 1 Axes>"
            ]
          },
          "metadata": {
            "tags": []
          }
        }
      ]
    },
    {
      "metadata": {
        "id": "V4pqaoGGqSiE",
        "colab_type": "text"
      },
      "cell_type": "markdown",
      "source": [
        "**MAKING PREDICTION**"
      ]
    },
    {
      "metadata": {
        "id": "fzyULHrRp0t0",
        "colab_type": "code",
        "colab": {
          "base_uri": "https://localhost:8080/",
          "height": 35
        },
        "outputId": "decc934c-4cd9-4532-f1ea-dea94b150098"
      },
      "cell_type": "code",
      "source": [
        "print(model.predict([100.0]))"
      ],
      "execution_count": 33,
      "outputs": [
        {
          "output_type": "stream",
          "text": [
            "[[211.2922]]\n"
          ],
          "name": "stdout"
        }
      ]
    },
    {
      "metadata": {
        "id": "fB9C3vQ6rlX1",
        "colab_type": "text"
      },
      "cell_type": "markdown",
      "source": [
        "**Looking at the layer weights**"
      ]
    },
    {
      "metadata": {
        "id": "jTFnXvaXqZyE",
        "colab_type": "code",
        "colab": {
          "base_uri": "https://localhost:8080/",
          "height": 35
        },
        "outputId": "1bd8aa9e-adf4-4df5-baea-b766e78d6cfa"
      },
      "cell_type": "code",
      "source": [
        "print(\"These are the layer variables: {}\".format(ten.get_weights()))"
      ],
      "execution_count": 34,
      "outputs": [
        {
          "output_type": "stream",
          "text": [
            "These are the layer variables: [array([[1.8267343]], dtype=float32), array([28.618774], dtype=float32)]\n"
          ],
          "name": "stdout"
        }
      ]
    }
  ]
}